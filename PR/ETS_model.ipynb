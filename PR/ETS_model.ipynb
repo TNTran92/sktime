{
 "cells": [
  {
   "cell_type": "code",
   "execution_count": null,
   "metadata": {},
   "outputs": [],
   "source": []
  }
 ],
 "metadata": {
  "interpreter": {
   "hash": "74420e131e26fca9a2b0cac518c9b4de66ec2bac94531e3026dcdd1128986759"
  },
  "kernelspec": {
   "display_name": "Python 3.9.7 ('data_process')",
   "language": "python",
   "name": "python3"
  },
  "language_info": {
   "name": "python",
   "version": "3.9.7"
  },
  "orig_nbformat": 4
 },
 "nbformat": 4,
 "nbformat_minor": 2
}
