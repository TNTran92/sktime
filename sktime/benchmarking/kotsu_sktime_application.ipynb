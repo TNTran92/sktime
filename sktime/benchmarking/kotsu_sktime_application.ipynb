{
 "cells": [
  {
   "cell_type": "markdown",
   "metadata": {},
   "source": [
    "# Apply kotsu to sktime"
   ]
  },
  {
   "cell_type": "markdown",
   "metadata": {},
   "source": [
    "# Apply to sktime"
   ]
  },
  {
   "cell_type": "code",
   "execution_count": null,
   "metadata": {},
   "outputs": [],
   "source": [
    "import warnings\n",
    "\n",
    "warnings.filterwarnings(\"ignore\")\n",
    "\n",
    "import kotsu\n",
    "\n",
    "from sktime.datasets import load_airline\n",
    "from sktime.forecasting.bats import BATS\n",
    "from sktime.forecasting.ets import AutoETS\n",
    "from sktime.forecasting.exp_smoothing import ExponentialSmoothing\n",
    "from sktime.forecasting.model_evaluation import evaluate\n",
    "from sktime.forecasting.model_selection import ExpandingWindowSplitter\n",
    "\n",
    "# All forecasters\n",
    "from sktime.forecasting.naive import NaiveForecaster\n",
    "from sktime.forecasting.sarimax import SARIMAX\n",
    "from sktime.forecasting.tbats import TBATS\n",
    "from sktime.forecasting.theta import ThetaForecaster\n",
    "from sktime.forecasting.trend import TrendForecaster\n",
    "from sktime.performance_metrics.forecasting import MeanSquaredPercentageError\n",
    "from sktime.utils.plotting import plot_series\n",
    "\n",
    "# from sktime.forecasting.arima import AutoARIMA\n",
    "# from sktime.forecasting.fbprophet import Prophet\n",
    "# from sktime.forecasting.var import VAR"
   ]
  },
  {
   "cell_type": "code",
   "execution_count": null,
   "metadata": {},
   "outputs": [],
   "source": [
    "# in the example, we use the airline data set.\n",
    "y = load_airline()\n",
    "plot_series(y)"
   ]
  },
  {
   "cell_type": "markdown",
   "metadata": {},
   "source": [
    "## Register sktime's `estimators`"
   ]
  },
  {
   "cell_type": "markdown",
   "metadata": {},
   "source": [
    "### Register competing models:\n",
    "\n",
    "Here we register two different estimators."
   ]
  },
  {
   "cell_type": "code",
   "execution_count": null,
   "metadata": {},
   "outputs": [],
   "source": [
    "model_registry_sktime = kotsu.registration.ModelRegistry()\n",
    "\n",
    "model_registry_sktime.register(\n",
    "    id=\"Naive-v1\",\n",
    "    entry_point=NaiveForecaster,\n",
    "    kwargs={\"strategy\": \"mean\", \"sp\": 12},\n",
    ")\n",
    "\n",
    "model_registry_sktime.register(\n",
    "    id=\"ETS-v1\",\n",
    "    entry_point=AutoETS,\n",
    "    kwargs={\"auto\": \"True\", \"n_jobs\": -1, \"sp\": 12},\n",
    ")\n",
    "\n",
    "model_registry_sktime.register(\n",
    "    id=\"Bats-v1\",\n",
    "    entry_point=BATS,\n",
    "    kwargs={\n",
    "        \"use_box_cox\": False,\n",
    "        \"use_trend\": True,\n",
    "        \"use_damped_trend\": False,\n",
    "        \"sp\": 12,\n",
    "        \"use_arma_errors\": False,\n",
    "        \"n_jobs\": 1,\n",
    "    },\n",
    ")\n",
    "\n",
    "model_registry_sktime.register(\n",
    "    id=\"ExponentialSmoothing-v1\",\n",
    "    entry_point=ExponentialSmoothing,\n",
    "    kwargs={\"trend\": \"add\", \"seasonal\": \"multiplicative\", \"sp\": 12},\n",
    ")\n",
    "\n",
    "\n",
    "model_registry_sktime.register(\n",
    "    id=\"Sarimax-v1\",\n",
    "    entry_point=SARIMAX,\n",
    "    kwargs={\"order\": (1, 0, 0), \"trend\": \"t\", \"seasonal_order\": (1, 0, 0, 6)},\n",
    ")\n",
    "\n",
    "model_registry_sktime.register(\n",
    "    id=\"TBATS-v1\",\n",
    "    entry_point=TBATS,\n",
    "    kwargs={\n",
    "        \"use_box_cox\": False,\n",
    "        \"use_trend\": True,\n",
    "        \"use_damped_trend\": False,\n",
    "        \"sp\": 12,\n",
    "        \"use_arma_errors\": False,\n",
    "        \"n_jobs\": 1,\n",
    "    },\n",
    ")\n",
    "\n",
    "model_registry_sktime.register(\n",
    "    id=\"Theta-v1\",\n",
    "    entry_point=ThetaForecaster,\n",
    "    kwargs={\"sp\": 12},\n",
    ")\n",
    "\n",
    "model_registry_sktime.register(\n",
    "    id=\"Trend-v1\",\n",
    "    entry_point=TrendForecaster,\n",
    "    kwargs={},\n",
    ")\n",
    "\n",
    "# These estimators don't work with kotsu yet\n",
    "# model_registry_sktime.register(\n",
    "#    id=\"Arima-v1\",\n",
    "#    entry_point=AutoARIMA,\n",
    "#    kwargs={\"sp\": 12,  \"d\": 0, \"max_p\": 2, \"max_q\":2, \"suppress_warnings\": True},\n",
    "# )\n",
    "\n",
    "# model_registry_sktime.register(\n",
    "#    id=\"Prophet-v1\",\n",
    "#    entry_point=Prophet,\n",
    "#    kwargs={\"seasonality_mode\": \"multiplicative\", \"yearly_seasonality\": \"auto\"},\n",
    "# )\n",
    "\n",
    "# model_registry_sktime.register(\n",
    "#    id=\"Var-v1\",\n",
    "#    entry_point=VAR,\n",
    "#    kwargs={\"method\": \"ols\", \"trend\": \"ct\"},\n",
    "# )"
   ]
  },
  {
   "cell_type": "markdown",
   "metadata": {},
   "source": [
    "### Register your validations:\n",
    "\n",
    "We can register multiple validations if we want to compare models in different scenarios, e.g. on different datasets. The validations should take an instance of your models as an argument, then return a the results from validation of that model - return format depoends on output of the CV splitter. Here we register only one Cross-Validation validations that tests 2 models.\n",
    "\n",
    "The CV splitter to be used here is `evaluate`"
   ]
  },
  {
   "cell_type": "code",
   "execution_count": null,
   "metadata": {},
   "outputs": [],
   "source": [
    "validation_registry_sktime = kotsu.registration.ValidationRegistry()\n",
    "\n",
    "\n",
    "def factory_airline_cross_validation():\n",
    "    \"\"\"Factory for airline cross validation.\"\"\"\n",
    "\n",
    "    def airline_cross_validation(model):\n",
    "        \"\"\"Airline dataset cross validation.\"\"\"\n",
    "        y = load_airline()\n",
    "        cv = ExpandingWindowSplitter(\n",
    "            initial_window=24,\n",
    "            step_length=12,\n",
    "            fh=[1, 2, 3, 4, 5, 6, 7, 8, 9, 10, 11, 12],\n",
    "        )\n",
    "        scores = evaluate(\n",
    "            forecaster=model, y=y, cv=cv, scoring=MeanSquaredPercentageError()\n",
    "        )\n",
    "        return scores\n",
    "\n",
    "    return airline_cross_validation\n",
    "\n",
    "\n",
    "validation_registry_sktime.register(\n",
    "    id=\"airline_cross_validation-v1\",\n",
    "    entry_point=factory_airline_cross_validation,\n",
    ")"
   ]
  },
  {
   "cell_type": "markdown",
   "metadata": {},
   "source": [
    "### Run the model through the validations"
   ]
  },
  {
   "cell_type": "code",
   "execution_count": null,
   "metadata": {},
   "outputs": [],
   "source": [
    "kotsu.run.run(model_registry_sktime, validation_registry_sktime, \"./kotsu_results.csv\")"
   ]
  }
 ],
 "metadata": {
  "kernelspec": {
   "display_name": "Python 3.8.13 ('sktime-gluon-dev')",
   "language": "python",
   "name": "python3"
  },
  "language_info": {
   "codemirror_mode": {
    "name": "ipython",
    "version": 3
   },
   "file_extension": ".py",
   "mimetype": "text/x-python",
   "name": "python",
   "nbconvert_exporter": "python",
   "pygments_lexer": "ipython3",
   "version": "3.8.13"
  },
  "orig_nbformat": 4,
  "vscode": {
   "interpreter": {
    "hash": "4c690c4aacf52c5b35e8c405d3ffa01c0fb45d098d01a1254237bffad00a0de1"
   }
  }
 },
 "nbformat": 4,
 "nbformat_minor": 2
}
