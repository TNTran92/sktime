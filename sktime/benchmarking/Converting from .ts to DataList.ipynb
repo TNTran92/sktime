{
 "cells": [
  {
   "cell_type": "markdown",
   "metadata": {},
   "source": [
    "# Steps to Convert from .ts to ListDataset format\n"
   ]
  },
  {
   "cell_type": "markdown",
   "metadata": {},
   "source": [
    "## Step 1: Convert .ts to pd.DataFrame"
   ]
  },
  {
   "cell_type": "markdown",
   "metadata": {},
   "source": [
    "`Gluon-ts` uses a dataset format called `ListDataset`. `ListDataset` is list of dict that has 3 categories of data: the required ones, the optional ones, and the one that can be added by the Transformation. Among the keys, `target` and `start` are required fields. `start` stands for a list of timepoints, useful when date is specified. If the data does not come with a specific date, a default value can be used. `target` is the data coresponding to `start`.\n",
    "\n",
    "In a univariate setting, suppose where there are n instances of the series and each univariate timeseries has t timepoints, this would yield a DataList with n list, each list having t data points. In practice, this could be used to represent nested DataFrame. Each DataList's list will be one row of the DataFrame. The ListDataset's list can also accomodate multivariate .ts files."
   ]
  },
  {
   "cell_type": "code",
   "execution_count": 23,
   "metadata": {},
   "outputs": [],
   "source": [
    "#import warnings\n",
    "#warnings.filterwarnings('ignore')\n",
    "\n",
    "from gluonts.dataset.field_names import FieldName\n",
    "from gluonts.dataset.common import ListDataset\n",
    "from gluonts.dataset.util import to_pandas\n",
    "\n"
   ]
  },
  {
   "cell_type": "code",
   "execution_count": 24,
   "metadata": {},
   "outputs": [
    {
     "data": {
      "text/plain": [
       "[\"FieldName.ITEM_ID = 'item_id'\",\n",
       " \"FieldName.START = 'start'\",\n",
       " \"FieldName.TARGET = 'target'\",\n",
       " \"FieldName.FEAT_STATIC_CAT = 'feat_static_cat'\",\n",
       " \"FieldName.FEAT_STATIC_REAL = 'feat_static_real'\",\n",
       " \"FieldName.FEAT_DYNAMIC_CAT = 'feat_dynamic_cat'\",\n",
       " \"FieldName.FEAT_DYNAMIC_REAL = 'feat_dynamic_real'\",\n",
       " \"FieldName.PAST_FEAT_DYNAMIC_REAL = 'past_feat_dynamic_real'\",\n",
       " \"FieldName.FEAT_DYNAMIC_REAL_LEGACY = 'dynamic_feat'\",\n",
       " \"FieldName.FEAT_DYNAMIC = 'feat_dynamic'\",\n",
       " \"FieldName.PAST_FEAT_DYNAMIC = 'past_feat_dynamic'\",\n",
       " \"FieldName.FEAT_TIME = 'time_feat'\",\n",
       " \"FieldName.FEAT_CONST = 'feat_dynamic_const'\",\n",
       " \"FieldName.FEAT_AGE = 'feat_dynamic_age'\",\n",
       " \"FieldName.OBSERVED_VALUES = 'observed_values'\",\n",
       " \"FieldName.IS_PAD = 'is_pad'\",\n",
       " \"FieldName.FORECAST_START = 'forecast_start'\",\n",
       " \"FieldName.TARGET_DIM_INDICATOR = 'target_dimension_indicator'\"]"
      ]
     },
     "execution_count": 24,
     "metadata": {},
     "output_type": "execute_result"
    }
   ],
   "source": [
    "[f\"FieldName.{k} = '{v}'\" for k, v in FieldName.__dict__.items() if not k.startswith('_')]\n"
   ]
  },
  {
   "cell_type": "markdown",
   "metadata": {},
   "source": [
    "The simplest way to convert a .ts to ListDataset is by going through pd.Dataframe"
   ]
  },
  {
   "cell_type": "code",
   "execution_count": 25,
   "metadata": {},
   "outputs": [],
   "source": [
    "import os\n",
    "\n",
    "import sktime\n",
    "from sktime.datasets import load_from_tsfile_to_dataframe\n",
    "import pandas as pd\n",
    "\n",
    "DATA_PATH = os.path.join(os.path.dirname(sktime.__file__), \"datasets/data\")\n",
    "\n",
    "train_x, train_y = load_from_tsfile_to_dataframe(\n",
    "    os.path.join(DATA_PATH, \"ItalyPowerDemand/ItalyPowerDemand_TRAIN.ts\")\n",
    ")\n",
    "test_x, test_y = load_from_tsfile_to_dataframe(\n",
    "    os.path.join(DATA_PATH, \"ItalyPowerDemand/ItalyPowerDemand_TEST.ts\")\n",
    ")"
   ]
  },
  {
   "cell_type": "code",
   "execution_count": 26,
   "metadata": {},
   "outputs": [
    {
     "data": {
      "text/html": [
       "<div>\n",
       "<style scoped>\n",
       "    .dataframe tbody tr th:only-of-type {\n",
       "        vertical-align: middle;\n",
       "    }\n",
       "\n",
       "    .dataframe tbody tr th {\n",
       "        vertical-align: top;\n",
       "    }\n",
       "\n",
       "    .dataframe thead th {\n",
       "        text-align: right;\n",
       "    }\n",
       "</style>\n",
       "<table border=\"1\" class=\"dataframe\">\n",
       "  <thead>\n",
       "    <tr style=\"text-align: right;\">\n",
       "      <th></th>\n",
       "      <th>dim_0</th>\n",
       "    </tr>\n",
       "  </thead>\n",
       "  <tbody>\n",
       "    <tr>\n",
       "      <th>0</th>\n",
       "      <td>0    -0.710518\n",
       "1    -1.183320\n",
       "2    -1.372442\n",
       "3...</td>\n",
       "    </tr>\n",
       "    <tr>\n",
       "      <th>1</th>\n",
       "      <td>0    -0.993009\n",
       "1    -1.426786\n",
       "2    -1.579884\n",
       "3...</td>\n",
       "    </tr>\n",
       "    <tr>\n",
       "      <th>2</th>\n",
       "      <td>0     1.319067\n",
       "1     0.569774\n",
       "2     0.195128\n",
       "3...</td>\n",
       "    </tr>\n",
       "    <tr>\n",
       "      <th>3</th>\n",
       "      <td>0    -0.812444\n",
       "1    -1.157553\n",
       "2    -1.416385\n",
       "3...</td>\n",
       "    </tr>\n",
       "    <tr>\n",
       "      <th>4</th>\n",
       "      <td>0    -0.972840\n",
       "1    -1.390518\n",
       "2    -1.536705\n",
       "3...</td>\n",
       "    </tr>\n",
       "  </tbody>\n",
       "</table>\n",
       "</div>"
      ],
      "text/plain": [
       "                                               dim_0\n",
       "0  0    -0.710518\n",
       "1    -1.183320\n",
       "2    -1.372442\n",
       "3...\n",
       "1  0    -0.993009\n",
       "1    -1.426786\n",
       "2    -1.579884\n",
       "3...\n",
       "2  0     1.319067\n",
       "1     0.569774\n",
       "2     0.195128\n",
       "3...\n",
       "3  0    -0.812444\n",
       "1    -1.157553\n",
       "2    -1.416385\n",
       "3...\n",
       "4  0    -0.972840\n",
       "1    -1.390518\n",
       "2    -1.536705\n",
       "3..."
      ]
     },
     "execution_count": 26,
     "metadata": {},
     "output_type": "execute_result"
    }
   ],
   "source": [
    "train_x.head()"
   ]
  },
  {
   "cell_type": "code",
   "execution_count": 27,
   "metadata": {},
   "outputs": [
    {
     "data": {
      "text/html": [
       "<div>\n",
       "<style scoped>\n",
       "    .dataframe tbody tr th:only-of-type {\n",
       "        vertical-align: middle;\n",
       "    }\n",
       "\n",
       "    .dataframe tbody tr th {\n",
       "        vertical-align: top;\n",
       "    }\n",
       "\n",
       "    .dataframe thead th {\n",
       "        text-align: right;\n",
       "    }\n",
       "</style>\n",
       "<table border=\"1\" class=\"dataframe\">\n",
       "  <thead>\n",
       "    <tr style=\"text-align: right;\">\n",
       "      <th></th>\n",
       "      <th>dim_0</th>\n",
       "    </tr>\n",
       "  </thead>\n",
       "  <tbody>\n",
       "    <tr>\n",
       "      <th>62</th>\n",
       "      <td>0    -1.037930\n",
       "1    -1.301658\n",
       "2    -1.469485\n",
       "3...</td>\n",
       "    </tr>\n",
       "    <tr>\n",
       "      <th>63</th>\n",
       "      <td>0    -0.373579\n",
       "1    -0.986632\n",
       "2    -1.446422\n",
       "3...</td>\n",
       "    </tr>\n",
       "    <tr>\n",
       "      <th>64</th>\n",
       "      <td>0    -1.159152\n",
       "1    -1.301400\n",
       "2    -1.524933\n",
       "3...</td>\n",
       "    </tr>\n",
       "    <tr>\n",
       "      <th>65</th>\n",
       "      <td>0    -0.694919\n",
       "1    -1.235829\n",
       "2    -1.416133\n",
       "3...</td>\n",
       "    </tr>\n",
       "    <tr>\n",
       "      <th>66</th>\n",
       "      <td>0     0.984033\n",
       "1     0.169661\n",
       "2    -0.519423\n",
       "3...</td>\n",
       "    </tr>\n",
       "  </tbody>\n",
       "</table>\n",
       "</div>"
      ],
      "text/plain": [
       "                                                dim_0\n",
       "62  0    -1.037930\n",
       "1    -1.301658\n",
       "2    -1.469485\n",
       "3...\n",
       "63  0    -0.373579\n",
       "1    -0.986632\n",
       "2    -1.446422\n",
       "3...\n",
       "64  0    -1.159152\n",
       "1    -1.301400\n",
       "2    -1.524933\n",
       "3...\n",
       "65  0    -0.694919\n",
       "1    -1.235829\n",
       "2    -1.416133\n",
       "3...\n",
       "66  0     0.984033\n",
       "1     0.169661\n",
       "2    -0.519423\n",
       "3..."
      ]
     },
     "execution_count": 27,
     "metadata": {},
     "output_type": "execute_result"
    }
   ],
   "source": [
    "train_x.tail()"
   ]
  },
  {
   "cell_type": "markdown",
   "metadata": {},
   "source": [
    "## Step 2: Convert Pd.DataFrame to DataList"
   ]
  },
  {
   "cell_type": "markdown",
   "metadata": {},
   "source": [
    "ItalyPowerDemand is a categorical dataset, so `feat_static_cat` is needed. Thus,  we will include `start`, `target` and `feat_static_cat` in the dataset. For train data"
   ]
  },
  {
   "cell_type": "code",
   "execution_count": 28,
   "metadata": {},
   "outputs": [],
   "source": [
    "import numpy as np\n",
    "\n",
    "def create_dataset(data, label):\n",
    "    list_len = len([num for sublist in pd.Series(data.loc[0]) for num in sublist])\n",
    "    nested_target = np.empty([1,list_len])\n",
    "    \n",
    "    for x in range(len(data)):\n",
    "        flat_list = np.expand_dims(np.array([num for sublist in pd.Series(data.loc[x]) for num in sublist]), axis=0)\n",
    "        nested_target = np.append(nested_target, flat_list, axis=0)\n",
    "        #nested_target.append(flat_list)\n",
    "    nested_target = np.delete(nested_target,0,0)\n",
    "\n",
    "    # create categorical static feats: pass in train_y\n",
    "    feat_static_cat = label\n",
    "\n",
    "    return nested_target, feat_static_cat"
   ]
  },
  {
   "cell_type": "code",
   "execution_count": 29,
   "metadata": {},
   "outputs": [
    {
     "name": "stderr",
     "output_type": "stream",
     "text": [
      "/tmp/ipykernel_57367/3788456916.py:5: FutureWarning: The 'freq' argument in Timestamp is deprecated and will be removed in a future version.\n",
      "  pd.Timestamp(\"04-18-2022\", freq='1H')  # Arbitrary default date\n"
     ]
    }
   ],
   "source": [
    "# define the parameters of the dataset\n",
    "custom_ds_metadata = {\n",
    "    'freq': '1H',\n",
    "    'start': [\n",
    "        pd.Timestamp(\"04-18-2022\", freq='1H')  # Arbitrary default date\n",
    "        for _ in range(len(train_x))\n",
    "    ]\n",
    "}"
   ]
  },
  {
   "cell_type": "code",
   "execution_count": 30,
   "metadata": {},
   "outputs": [],
   "source": [
    "nested_target, feat_static_cat = create_dataset(train_x, train_y)"
   ]
  },
  {
   "cell_type": "code",
   "execution_count": 31,
   "metadata": {},
   "outputs": [],
   "source": [
    "train_ds = ListDataset(\n",
    "    [\n",
    "        {\n",
    "            FieldName.TARGET: target,\n",
    "            FieldName.START: start,\n",
    "            FieldName.FEAT_STATIC_CAT: [fsc]\n",
    "        }\n",
    "        for (target, start, fsc) in zip(\n",
    "            nested_target,\n",
    "            custom_ds_metadata['start'],\n",
    "            feat_static_cat\n",
    "        )\n",
    "    ],\n",
    "    freq=custom_ds_metadata['freq']\n",
    ")"
   ]
  },
  {
   "cell_type": "code",
   "execution_count": 32,
   "metadata": {},
   "outputs": [
    {
     "data": {
      "text/plain": [
       "dict_keys(['target', 'start', 'feat_static_cat', 'source'])"
      ]
     },
     "execution_count": 32,
     "metadata": {},
     "output_type": "execute_result"
    }
   ],
   "source": [
    "train_entry = next(iter(train_ds))\n",
    "train_entry.keys()\n"
   ]
  },
  {
   "cell_type": "code",
   "execution_count": 33,
   "metadata": {},
   "outputs": [
    {
     "data": {
      "text/plain": [
       "array([-0.7105176 , -1.1833204 , -1.3724416 , -1.5930829 , -1.4670022 ,\n",
       "       -1.3724416 , -1.0887599 ,  0.04596695,  0.92853224,  1.0861332 ,\n",
       "        1.2752542 ,  0.96005243,  0.61333036,  0.01444676, -0.6474772 ,\n",
       "       -0.26923493, -0.20619456,  0.61333036,  1.3698149 ,  1.4643754 ,\n",
       "        1.054613  ,  0.5818102 ,  0.1720477 , -0.26923493], dtype=float32)"
      ]
     },
     "execution_count": 33,
     "metadata": {},
     "output_type": "execute_result"
    }
   ],
   "source": [
    "ListDataset_check = train_entry[\"target\"]\n",
    "ListDataset_check"
   ]
  },
  {
   "cell_type": "code",
   "execution_count": 34,
   "metadata": {},
   "outputs": [
    {
     "data": {
      "text/plain": [
       "array([-0.71051757, -1.1833204 , -1.3724416 , -1.5930829 , -1.4670021 ,\n",
       "       -1.3724416 , -1.0887599 ,  0.04596695,  0.92853223,  1.0861332 ,\n",
       "        1.2752543 ,  0.96005242,  0.61333034,  0.01444676, -0.6474772 ,\n",
       "       -0.26923494, -0.20619456,  0.61333034,  1.3698149 ,  1.4643754 ,\n",
       "        1.054613  ,  0.58181015,  0.1720477 , -0.26923494])"
      ]
     },
     "execution_count": 34,
     "metadata": {},
     "output_type": "execute_result"
    }
   ],
   "source": [
    "# First row of train_x \n",
    "ts_check = np.array([num for sublist in pd.Series(train_x.loc[0]) for num in sublist])\n",
    "ts_check"
   ]
  },
  {
   "cell_type": "markdown",
   "metadata": {},
   "source": [
    "Check if data are the same after conversion"
   ]
  },
  {
   "cell_type": "code",
   "execution_count": 35,
   "metadata": {},
   "outputs": [],
   "source": [
    "from numpy.testing import assert_allclose\n",
    "assert_allclose(ListDataset_check, ts_check)"
   ]
  },
  {
   "cell_type": "markdown",
   "metadata": {},
   "source": [
    "For test dataset, the same procedure is carried out"
   ]
  },
  {
   "cell_type": "code",
   "execution_count": 36,
   "metadata": {},
   "outputs": [
    {
     "name": "stderr",
     "output_type": "stream",
     "text": [
      "/tmp/ipykernel_57367/1577890108.py:5: FutureWarning: The 'freq' argument in Timestamp is deprecated and will be removed in a future version.\n",
      "  pd.Timestamp(\"04-18-2022\", freq='1H')  # Arbitrary default date\n"
     ]
    }
   ],
   "source": [
    "# define the parameters of the dataset\n",
    "custom_ds_metadata = {\n",
    "    'freq': '1H',\n",
    "    'start': [\n",
    "        pd.Timestamp(\"04-18-2022\", freq='1H')  # Arbitrary default date\n",
    "        for _ in range(len(test_x))\n",
    "    ]\n",
    "}"
   ]
  },
  {
   "cell_type": "code",
   "execution_count": 37,
   "metadata": {},
   "outputs": [],
   "source": [
    "test_data_out = create_dataset(test_x, test_y)\n",
    "\n",
    "nested_target, feat_static_cat = test_data_out"
   ]
  },
  {
   "cell_type": "code",
   "execution_count": 38,
   "metadata": {},
   "outputs": [],
   "source": [
    "test_ds = ListDataset(\n",
    "    [\n",
    "        {\n",
    "            FieldName.TARGET: target,\n",
    "            FieldName.START: start,\n",
    "            FieldName.FEAT_STATIC_CAT: [fsc]\n",
    "        }\n",
    "        for (target, start, fsc) in zip(\n",
    "            nested_target,\n",
    "            custom_ds_metadata['start'],\n",
    "            feat_static_cat\n",
    "        )\n",
    "    ],\n",
    "    freq=custom_ds_metadata['freq']\n",
    ")"
   ]
  },
  {
   "cell_type": "code",
   "execution_count": 39,
   "metadata": {},
   "outputs": [
    {
     "data": {
      "text/plain": [
       "dict_keys(['target', 'start', 'feat_static_cat', 'source'])"
      ]
     },
     "execution_count": 39,
     "metadata": {},
     "output_type": "execute_result"
    }
   ],
   "source": [
    "test_entry = next(iter(test_ds))\n",
    "test_entry.keys()"
   ]
  },
  {
   "cell_type": "markdown",
   "metadata": {},
   "source": [
    "Plot the dataset we just made"
   ]
  },
  {
   "cell_type": "code",
   "execution_count": 40,
   "metadata": {},
   "outputs": [
    {
     "data": {
      "image/png": "[encoded data removed]",
      "text/plain": [
       "<Figure size 720x504 with 2 Axes>"
      ]
     },
     "metadata": {
      "needs_background": "light"
     },
     "output_type": "display_data"
    }
   ],
   "source": [
    "from gluonts.dataset.util import to_pandas\n",
    "import matplotlib.pyplot as plt\n",
    "\n",
    "\n",
    "test_series = to_pandas(test_entry)\n",
    "train_series = to_pandas(train_entry)\n",
    "\n",
    "fig, ax = plt.subplots(2, 1, sharex=True, sharey=True, figsize=(10, 7))\n",
    "\n",
    "train_series.plot(ax=ax[0])\n",
    "ax[0].grid(which=\"both\")\n",
    "ax[0].legend([\"train series\"], loc=\"upper left\")\n",
    "\n",
    "test_series.plot(ax=ax[1])\n",
    "ax[1].grid(which=\"both\")\n",
    "ax[1].legend([\"test series\"], loc=\"upper left\")\n",
    "\n",
    "plt.show()"
   ]
  },
  {
   "cell_type": "markdown",
   "metadata": {},
   "source": [
    "`train_ds` and `test_ds` are now ready for `gluon-ts`"
   ]
  }
 ],
 "metadata": {
  "interpreter": {
   "hash": "4c690c4aacf52c5b35e8c405d3ffa01c0fb45d098d01a1254237bffad00a0de1"
  },
  "kernelspec": {
   "display_name": "Python 3.8.13 ('sktime-gluon-dev')",
   "language": "python",
   "name": "python3"
  },
  "language_info": {
   "codemirror_mode": {
    "name": "ipython",
    "version": 3
   },
   "file_extension": ".py",
   "mimetype": "text/x-python",
   "name": "python",
   "nbconvert_exporter": "python",
   "pygments_lexer": "ipython3",
   "version": "3.8.13"
  },
  "orig_nbformat": 4
 },
 "nbformat": 4,
 "nbformat_minor": 2
}
