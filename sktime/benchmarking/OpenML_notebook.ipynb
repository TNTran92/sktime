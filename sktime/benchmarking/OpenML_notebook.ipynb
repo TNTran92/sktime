{
 "cells": [
  {
   "cell_type": "markdown",
   "metadata": {},
   "source": [
    "# OpenML Dataset Creation and Properties"
   ]
  },
  {
   "cell_type": "markdown",
   "metadata": {},
   "source": [
    "In this notebook, we will look at how OpenML's dataset is created and make observations about its potential \n",
    "as sktime's benchmarking framework.\n",
    "\n",
    "TLDR:\n",
    "- In an OpenML dataset, each variable is in a column, each time point is a row, just like in a DataFrame.\n",
    "- Not required to have `target` column but since OpenML doesnnot support Pd.Series inside DataFrame => Need to turn time series \n",
    "into rolling-window format.\n",
    "- Because dataset has to be rolling window, adapters need to be made for .ts format, estimator, CV splitter and `metrics`\n",
    "- Still not sure how to make a 1:1 conversion of MultiIndex DataFrame to OpenML Dataset \n",
    "___"
   ]
  },
  {
   "cell_type": "markdown",
   "metadata": {},
   "source": [
    "## 1. Create a simple dataset"
   ]
  },
  {
   "cell_type": "code",
   "execution_count": 45,
   "metadata": {},
   "outputs": [],
   "source": [
    "import numpy as np\n",
    "import openml\n",
    "import pandas as pd\n",
    "\n",
    "\n",
    "openml.config.apikey = \"86650cb6698383104877f9efba47ce77\""
   ]
  },
  {
   "cell_type": "markdown",
   "metadata": {},
   "source": [
    "The dataset of OpenML has the following template. Values are for example."
   ]
  },
  {
   "cell_type": "code",
   "execution_count": 60,
   "metadata": {},
   "outputs": [],
   "source": [
    "# Raw data input as list\n",
    "data = [\n",
    "    [\"sunny\", 85, 85, \"FALSE\", \"no\"],\n",
    "    [\"sunny\", 80, 90, \"TRUE\", \"no\"],\n",
    "    [\"overcast\", 83, 86, \"FALSE\", \"yes\"],\n",
    "    [\"rainy\", 70, 96, \"FALSE\", \"yes\"],\n",
    "    [\"rainy\", 68, 80, \"FALSE\", \"yes\"],\n",
    "    [\"rainy\", 65, 70, \"TRUE\", \"no\"],\n",
    "    [\"overcast\", 64, 65, \"TRUE\", \"yes\"],\n",
    "    [\"sunny\", 72, 95, \"FALSE\", \"no\"],\n",
    "    [\"sunny\", 69, 70, \"FALSE\", \"yes\"],\n",
    "    [\"rainy\", 75, 80, \"FALSE\", \"yes\"],\n",
    "    [\"sunny\", 75, 70, \"TRUE\", \"yes\"],\n",
    "    [\"overcast\", 72, 90, \"TRUE\", \"yes\"],\n",
    "    [\"overcast\", 81, 75, \"FALSE\", \"yes\"],\n",
    "    [\"rainy\", 71, 91, \"TRUE\", \"no\"],\n",
    "]\n",
    "\n",
    "# Each row is a variable, for categorical, there is a list that contains all\n",
    "# category expected\n",
    "attribute_names = [\n",
    "    (\"outlook\", [\"sunny\", \"overcast\", \"rainy\"]),\n",
    "    (\"temperature\", \"REAL\"),\n",
    "    (\"humidity\", \"REAL\"),\n",
    "    (\"windy\", [\"TRUE\", \"FALSE\"]),\n",
    "    (\"play\", [\"yes\", \"no\"]),\n",
    "]\n",
    "\n",
    "description = (\n",
    "    \"The weather problem is a tiny dataset that we will use repeatedly\"\n",
    "    \" to illustrate machine learning methods. Entirely fictitious, it \"\n",
    "    \"supposedly concerns the conditions that are suitable for playing \"\n",
    "    \"some unspecified game. In general, instances in a dataset are \"\n",
    "    \"characterized by the values of features, or attributes, that measure \"\n",
    "    \"different aspects of the instance. In this case there are four \"\n",
    "    \"attributes: outlook, temperature, humidity, and windy. \"\n",
    "    \"The outcome is whether to play or not.\"\n",
    ")\n",
    "\n",
    "citation = (\n",
    "    \"I. H. Witten, E. Frank, M. A. Hall, and ITPro,\"\n",
    "    \"Data mining practical machine learning tools and techniques, \"\n",
    "    \"third edition. Burlington, Mass.: Morgan Kaufmann Publishers, 2011\"\n",
    ")"
   ]
  },
  {
   "cell_type": "markdown",
   "metadata": {},
   "source": [
    "Change data format to DataFrame for better visualization"
   ]
  },
  {
   "cell_type": "code",
   "execution_count": 61,
   "metadata": {},
   "outputs": [
    {
     "name": "stdout",
     "output_type": "stream",
     "text": [
      "<class 'pandas.core.frame.DataFrame'>\n",
      "RangeIndex: 14 entries, 0 to 13\n",
      "Data columns (total 5 columns):\n",
      " #   Column       Non-Null Count  Dtype   \n",
      "---  ------       --------------  -----   \n",
      " 0   outlook      14 non-null     category\n",
      " 1   temperature  14 non-null     int64   \n",
      " 2   humidity     14 non-null     int64   \n",
      " 3   windy        14 non-null     bool    \n",
      " 4   play         14 non-null     category\n",
      "dtypes: bool(1), category(2), int64(2)\n",
      "memory usage: 650.0 bytes\n",
      "None\n"
     ]
    }
   ],
   "source": [
    "import pandas as pd\n",
    "\n",
    "df = pd.DataFrame(data, columns=[col_name for col_name, _ in attribute_names])\n",
    "# enforce the categorical column to have a categorical dtype\n",
    "df[\"outlook\"] = df[\"outlook\"].astype(\"category\")\n",
    "df[\"windy\"] = df[\"windy\"].astype(\"bool\")\n",
    "df[\"play\"] = df[\"play\"].astype(\"category\")\n",
    "print(df.info())"
   ]
  },
  {
   "cell_type": "code",
   "execution_count": 62,
   "metadata": {},
   "outputs": [
    {
     "data": {
      "text/html": [
       "<div>\n",
       "<style scoped>\n",
       "    .dataframe tbody tr th:only-of-type {\n",
       "        vertical-align: middle;\n",
       "    }\n",
       "\n",
       "    .dataframe tbody tr th {\n",
       "        vertical-align: top;\n",
       "    }\n",
       "\n",
       "    .dataframe thead th {\n",
       "        text-align: right;\n",
       "    }\n",
       "</style>\n",
       "<table border=\"1\" class=\"dataframe\">\n",
       "  <thead>\n",
       "    <tr style=\"text-align: right;\">\n",
       "      <th></th>\n",
       "      <th>outlook</th>\n",
       "      <th>temperature</th>\n",
       "      <th>humidity</th>\n",
       "      <th>windy</th>\n",
       "      <th>play</th>\n",
       "    </tr>\n",
       "  </thead>\n",
       "  <tbody>\n",
       "    <tr>\n",
       "      <th>0</th>\n",
       "      <td>sunny</td>\n",
       "      <td>85</td>\n",
       "      <td>85</td>\n",
       "      <td>True</td>\n",
       "      <td>no</td>\n",
       "    </tr>\n",
       "    <tr>\n",
       "      <th>1</th>\n",
       "      <td>sunny</td>\n",
       "      <td>80</td>\n",
       "      <td>90</td>\n",
       "      <td>True</td>\n",
       "      <td>no</td>\n",
       "    </tr>\n",
       "    <tr>\n",
       "      <th>2</th>\n",
       "      <td>overcast</td>\n",
       "      <td>83</td>\n",
       "      <td>86</td>\n",
       "      <td>True</td>\n",
       "      <td>yes</td>\n",
       "    </tr>\n",
       "    <tr>\n",
       "      <th>3</th>\n",
       "      <td>rainy</td>\n",
       "      <td>70</td>\n",
       "      <td>96</td>\n",
       "      <td>True</td>\n",
       "      <td>yes</td>\n",
       "    </tr>\n",
       "    <tr>\n",
       "      <th>4</th>\n",
       "      <td>rainy</td>\n",
       "      <td>68</td>\n",
       "      <td>80</td>\n",
       "      <td>True</td>\n",
       "      <td>yes</td>\n",
       "    </tr>\n",
       "    <tr>\n",
       "      <th>5</th>\n",
       "      <td>rainy</td>\n",
       "      <td>65</td>\n",
       "      <td>70</td>\n",
       "      <td>True</td>\n",
       "      <td>no</td>\n",
       "    </tr>\n",
       "    <tr>\n",
       "      <th>6</th>\n",
       "      <td>overcast</td>\n",
       "      <td>64</td>\n",
       "      <td>65</td>\n",
       "      <td>True</td>\n",
       "      <td>yes</td>\n",
       "    </tr>\n",
       "    <tr>\n",
       "      <th>7</th>\n",
       "      <td>sunny</td>\n",
       "      <td>72</td>\n",
       "      <td>95</td>\n",
       "      <td>True</td>\n",
       "      <td>no</td>\n",
       "    </tr>\n",
       "    <tr>\n",
       "      <th>8</th>\n",
       "      <td>sunny</td>\n",
       "      <td>69</td>\n",
       "      <td>70</td>\n",
       "      <td>True</td>\n",
       "      <td>yes</td>\n",
       "    </tr>\n",
       "    <tr>\n",
       "      <th>9</th>\n",
       "      <td>rainy</td>\n",
       "      <td>75</td>\n",
       "      <td>80</td>\n",
       "      <td>True</td>\n",
       "      <td>yes</td>\n",
       "    </tr>\n",
       "    <tr>\n",
       "      <th>10</th>\n",
       "      <td>sunny</td>\n",
       "      <td>75</td>\n",
       "      <td>70</td>\n",
       "      <td>True</td>\n",
       "      <td>yes</td>\n",
       "    </tr>\n",
       "    <tr>\n",
       "      <th>11</th>\n",
       "      <td>overcast</td>\n",
       "      <td>72</td>\n",
       "      <td>90</td>\n",
       "      <td>True</td>\n",
       "      <td>yes</td>\n",
       "    </tr>\n",
       "    <tr>\n",
       "      <th>12</th>\n",
       "      <td>overcast</td>\n",
       "      <td>81</td>\n",
       "      <td>75</td>\n",
       "      <td>True</td>\n",
       "      <td>yes</td>\n",
       "    </tr>\n",
       "    <tr>\n",
       "      <th>13</th>\n",
       "      <td>rainy</td>\n",
       "      <td>71</td>\n",
       "      <td>91</td>\n",
       "      <td>True</td>\n",
       "      <td>no</td>\n",
       "    </tr>\n",
       "  </tbody>\n",
       "</table>\n",
       "</div>"
      ],
      "text/plain": [
       "     outlook  temperature  humidity  windy play\n",
       "0      sunny           85        85   True   no\n",
       "1      sunny           80        90   True   no\n",
       "2   overcast           83        86   True  yes\n",
       "3      rainy           70        96   True  yes\n",
       "4      rainy           68        80   True  yes\n",
       "5      rainy           65        70   True   no\n",
       "6   overcast           64        65   True  yes\n",
       "7      sunny           72        95   True   no\n",
       "8      sunny           69        70   True  yes\n",
       "9      rainy           75        80   True  yes\n",
       "10     sunny           75        70   True  yes\n",
       "11  overcast           72        90   True  yes\n",
       "12  overcast           81        75   True  yes\n",
       "13     rainy           71        91   True   no"
      ]
     },
     "execution_count": 62,
     "metadata": {},
     "output_type": "execute_result"
    }
   ],
   "source": [
    "df"
   ]
  },
  {
   "cell_type": "markdown",
   "metadata": {},
   "source": [
    "Finally, create and upload the dataset"
   ]
  },
  {
   "cell_type": "code",
   "execution_count": 63,
   "metadata": {},
   "outputs": [
    {
     "data": {
      "text/plain": [
       "OpenML Dataset\n",
       "==============\n",
       "Name.........: Weather\n",
       "Version......: None\n",
       "Format.......: arff\n",
       "Licence......: None\n",
       "Download URL.: None\n",
       "OpenML URL...: https://www.openml.org/d/43961\n",
       "# of features: None"
      ]
     },
     "execution_count": 63,
     "metadata": {},
     "output_type": "execute_result"
    }
   ],
   "source": [
    "weather_dataset = create_dataset(\n",
    "    name=\"Weather\",\n",
    "    description=description,\n",
    "    creator=\"I. H. Witten, E. Frank, M. A. Hall, and ITPro\",\n",
    "    contributor=None,\n",
    "    collection_date=\"01-01-2011\",\n",
    "    language=\"English\",\n",
    "    licence=None,\n",
    "    default_target_attribute=\"play\",\n",
    "    row_id_attribute=None,\n",
    "    ignore_attribute=None,\n",
    "    citation=citation,\n",
    "    attributes=\"auto\",\n",
    "    data=df,\n",
    "    version_label=\"example\",\n",
    ")\n",
    "\n",
    "weather_dataset.publish()"
   ]
  },
  {
   "cell_type": "markdown",
   "metadata": {},
   "source": [
    "The URL above can be shared and downloaed by other people\n",
    "\n",
    "Observations:\n",
    "- Data needs to be in either array or DataFrame format. Pd.Series inside DataFrame and MultiIndex DataFrame is not supported.\n",
    "___"
   ]
  },
  {
   "cell_type": "markdown",
   "metadata": {},
   "source": [
    "## 2. Investigate a Time Series Dataset"
   ]
  },
  {
   "cell_type": "markdown",
   "metadata": {},
   "source": [
    "As an example, we will download the Reliance-Industries-(RIL)-Share-Price-(1996-2020)"
   ]
  },
  {
   "cell_type": "code",
   "execution_count": 74,
   "metadata": {},
   "outputs": [
    {
     "name": "stderr",
     "output_type": "stream",
     "text": [
      "WARNING:root:Received uncompressed content from OpenML for https://old.openml.org/data/v1/download/22102641/Reliance-Industries-(RIL)-Share-Price-(1996-2020).arff.\n"
     ]
    }
   ],
   "source": [
    "dataset = openml.datasets.get_dataset(43816)\n",
    "X = dataset.get_data(dataset_format=\"dataframe\")"
   ]
  },
  {
   "cell_type": "markdown",
   "metadata": {},
   "source": [
    "Check the properties of this dataset"
   ]
  },
  {
   "cell_type": "code",
   "execution_count": 75,
   "metadata": {},
   "outputs": [
    {
     "name": "stdout",
     "output_type": "stream",
     "text": [
      "This is dataset 'Reliance-Industries-(RIL)-Share-Price-(1996-2020)', the target feature is 'None'\n",
      "URL: https://old.openml.org/data/v1/download/22102641/Reliance-Industries-(RIL)-Share-Price-(1996-2020).arff\n",
      "Content\n",
      "We have daily stock prices of Reliance Industries (RIL) the parent of telecom company Jio Platform for which we have multiple investments in India including from Facebook and Intel\n",
      "This is owned by Mukesh Ambani, the richest person in India. Also, among the top 10 richest person in the world! \n",
      "Data Dictionary\n",
      "Date    ==== Date of information\n",
      "Symbol    ==== Name of share. Reliance Industries in this case\n",
      "Series    ==== Equities i.e., stock price\n",
      "Prev Close ==== Price stock closed in the l\n"
     ]
    }
   ],
   "source": [
    "# Print a summary\n",
    "print(\n",
    "    f\"This is dataset '{dataset.name}', the target feature is \"\n",
    "    f\"'{dataset.default_target_attribute}'\"\n",
    ")\n",
    "print(f\"URL: {dataset.url}\")\n",
    "print(dataset.description[:500])"
   ]
  },
  {
   "cell_type": "code",
   "execution_count": 76,
   "metadata": {},
   "outputs": [
    {
     "data": {
      "text/plain": [
       "(            Date    Symbol Series  Prev_Close     Open     High      Low  \\\n",
       " 0     01-01-1996  RELIANCE     EQ      204.65   205.00   206.10   203.65   \n",
       " 1     02-01-1996  RELIANCE     EQ      205.75   205.25   206.25   202.65   \n",
       " 2     03-01-1996  RELIANCE     EQ      204.15   207.50   216.95   205.25   \n",
       " 3     04-01-1996  RELIANCE     EQ      205.70   203.75   204.40   201.05   \n",
       " 4     05-01-1996  RELIANCE     EQ      203.80   203.00   203.00   200.65   \n",
       " ...          ...       ...    ...         ...      ...      ...      ...   \n",
       " 6200  23-11-2020  RELIANCE     EQ     1899.50  1951.00  1970.00  1926.25   \n",
       " 6201  24-11-2020  RELIANCE     EQ     1950.70  1964.00  1974.00  1932.00   \n",
       " 6202  25-11-2020  RELIANCE     EQ     1964.05  1980.00  1992.95  1942.20   \n",
       " 6203  26-11-2020  RELIANCE     EQ     1947.80  1953.05  1965.00  1930.05   \n",
       " 6204  27-11-2020  RELIANCE     EQ     1952.60  1940.50  1956.10  1921.40   \n",
       " \n",
       "          Last    Close     VWAP    Volume      Turnover    Trades  \\\n",
       " 0         NaN   205.75   205.26   3717450  7.630000e+13       NaN   \n",
       " 1         NaN   204.15   204.13   6024650  1.230000e+14       NaN   \n",
       " 2         NaN   205.70   207.04   7473500  1.550000e+14       NaN   \n",
       " 3         NaN   203.80   202.47   7744000  1.570000e+14       NaN   \n",
       " 4         NaN   202.40   202.05   5952000  1.200000e+14       NaN   \n",
       " ...       ...      ...      ...       ...           ...       ...   \n",
       " 6200  1955.20  1950.70  1952.18  20918665  4.083700e+15  497781.0   \n",
       " 6201  1971.05  1964.05  1952.11  14277083  2.787040e+15  362587.0   \n",
       " 6202  1947.50  1947.80  1969.06  15062376  2.965870e+15  356793.0   \n",
       " 6203  1957.00  1952.60  1946.67  11924527  2.321310e+15  266412.0   \n",
       " 6204  1940.50  1929.80  1935.45  21845931  4.228160e+15  314085.0   \n",
       " \n",
       "       Deliverable_Volume  %Deliverble  \n",
       " 0                    NaN          NaN  \n",
       " 1                    NaN          NaN  \n",
       " 2                    NaN          NaN  \n",
       " 3                    NaN          NaN  \n",
       " 4                    NaN          NaN  \n",
       " ...                  ...          ...  \n",
       " 6200           5148955.0       0.2461  \n",
       " 6201           3213843.0       0.2251  \n",
       " 6202           3040444.0       0.2019  \n",
       " 6203           3406506.0       0.2857  \n",
       " 6204          12489338.0       0.5717  \n",
       " \n",
       " [6205 rows x 15 columns],\n",
       " None,\n",
       " [False,\n",
       "  False,\n",
       "  False,\n",
       "  False,\n",
       "  False,\n",
       "  False,\n",
       "  False,\n",
       "  False,\n",
       "  False,\n",
       "  False,\n",
       "  False,\n",
       "  False,\n",
       "  False,\n",
       "  False,\n",
       "  False],\n",
       " ['Date',\n",
       "  'Symbol',\n",
       "  'Series',\n",
       "  'Prev_Close',\n",
       "  'Open',\n",
       "  'High',\n",
       "  'Low',\n",
       "  'Last',\n",
       "  'Close',\n",
       "  'VWAP',\n",
       "  'Volume',\n",
       "  'Turnover',\n",
       "  'Trades',\n",
       "  'Deliverable_Volume',\n",
       "  '%Deliverble'])"
      ]
     },
     "execution_count": 76,
     "metadata": {},
     "output_type": "execute_result"
    }
   ],
   "source": [
    "X"
   ]
  },
  {
   "cell_type": "markdown",
   "metadata": {},
   "source": [
    "Observations:\n",
    "1. DataFrame MultiIndex is not supported. Will be a problem for Hierachichal data type.\n",
    "2. Because pd.Series inside DataFrame is not supported, this will create a problem for sktime's estimators, metrics and `evaluate`\n",
    "3. Current workaround is to turn sktime's dataset into supervised, rolling-window format - will potentially work with adapters for estimators, metrics\n",
    "4. Not sure how to implement CV split from `evaluate` for this adapter \n",
    "5. Assuming 3. and 4. are resolved, we still have 1...."
   ]
  }
 ],
 "metadata": {
  "kernelspec": {
   "display_name": "Python 3.8.13 ('sktime-gluon-dev')",
   "language": "python",
   "name": "python3"
  },
  "language_info": {
   "codemirror_mode": {
    "name": "ipython",
    "version": 3
   },
   "file_extension": ".py",
   "mimetype": "text/x-python",
   "name": "python",
   "nbconvert_exporter": "python",
   "pygments_lexer": "ipython3",
   "version": "3.8.13"
  },
  "orig_nbformat": 4,
  "vscode": {
   "interpreter": {
    "hash": "4c690c4aacf52c5b35e8c405d3ffa01c0fb45d098d01a1254237bffad00a0de1"
   }
  }
 },
 "nbformat": 4,
 "nbformat_minor": 2
}
