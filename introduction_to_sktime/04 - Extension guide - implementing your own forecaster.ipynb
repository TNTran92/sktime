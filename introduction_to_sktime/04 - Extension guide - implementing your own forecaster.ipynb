{
 "cells": [
  {
   "cell_type": "markdown",
   "metadata": {},
   "source": [
    "4. Extension guide - implementing your own forecaster\n",
    "sktime is meant to be easily extensible, for direct contribution to sktime as well as for local/private extension with custom methods.\n",
    "\n",
    "To extend sktime with a new local or contributed forecaster, a good workflow to follow is:\n",
    "\n",
    " - read through the forecasting extension template - this is a python file with todo blocks that mark the places in which changes need to be added.\n",
    " - optionally, if you are planning any major surgeries to the interface: look at the base class architecture - note that \"ordinary\" extension (e.g., new algorithm) should be easily doable without this.\n",
    " - copy the forecasting extension template to a local folder in your own repository (local/private extension), or to a suitable location in your clone of the sktime or affiliated repository (if contributed extension), inside sktime.forecasting; rename the file and update the file docstring appropriately.\n",
    " - address the \"todo\" parts. Usually, this means: changing the name of the class, setting the tag values, specifying hyper-parameters, filling in __init__, _fit, _predict, and optional methods such as _update (for details see the extension template). You can add private methods as long as they do not override the default public interface. For more details, see the extension template.\n",
    " - to test your estimator manually: import your estimator and run it in the worfklows in Section 1; then use it in the compositors in Section 3.\n",
    " - to test your estimator automatically: call sktime.tests.test_all_estimators.test_estimator on your estimator - note that the function takes the class, not an object instance. Before the call, you need to register the new estimator in sktime.tests._config, as an import, and by adding default parameter settings to the ESTIMATOR_TEST_PARAMS variable (the dict entry key is the class, and entry is a scikit-learn parameter set). pytest will also add the call to its automated tests in a working clone of the sktime repository.\n",
    "In case of direct contribution to sktime or one of its affiliated packages, additionally:\n",
    "\n",
    " - add yourself as an author to the code, and to the CODEOWNERS for the new estimator file(s).\n",
    " - create a pull request that contains only the new estimators (and their inheritance tree, if it's not just one class), as well as the automated tests as described above.\n",
    " - in the pull request, describe the estimator and optimally provide a publication or other technical reference for the strategy it implements.\n",
    " - before making the pull request, ensure that you have all necessary permissions to contribute the code to a permissive license (BSD-3) open source project."
   ]
  },
  {
   "cell_type": "markdown",
   "metadata": {},
   "source": [
    "5. Summary\n",
    "sktime comes with several forecasting algorithms (or forecasters), all of which share a common interface. The interface is fully interoperable with the scikit-learn interface, and provides dedicated interface points for forecasting in batch and rolling mode.\n",
    "\n",
    "sktime comes with rich composition functionality that allows to build complex pipelines easily, and connect easily with other parts of the open source ecosystem, such as scikit-learn and individual algorithm libraries.\n",
    "\n",
    "sktime is easy to extend, and comes with user friendly tools to facilitate implementing and testing your own forecasters and composition principles."
   ]
  }
 ],
 "metadata": {
  "interpreter": {
   "hash": "74420e131e26fca9a2b0cac518c9b4de66ec2bac94531e3026dcdd1128986759"
  },
  "kernelspec": {
   "display_name": "Python 3.9.7 ('data_process')",
   "language": "python",
   "name": "python3"
  },
  "language_info": {
   "name": "python",
   "version": "3.9.7"
  },
  "orig_nbformat": 4
 },
 "nbformat": 4,
 "nbformat_minor": 2
}
