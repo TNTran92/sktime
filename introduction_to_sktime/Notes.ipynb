{
 "cells": [
  {
   "cell_type": "markdown",
   "metadata": {},
   "source": [
    "Issue to fix/have fixed"
   ]
  },
  {
   "cell_type": "markdown",
   "metadata": {},
   "source": [
    "1/ On https://www.sktime.org/en/stable/, when clicking on \"User Guid\", the menu opens up a new menu with \"User Guid\" and \"Tutorial.\" This is confusing."
   ]
  },
  {
   "cell_type": "markdown",
   "metadata": {},
   "source": [
    "2/ User Guide is largely empty \n",
    "=> Solution: Merge Tutorial with User guide to become \"Introduction to sktime\""
   ]
  },
  {
   "cell_type": "markdown",
   "metadata": {},
   "source": [
    "3/ the web version of \"Forecasting with sktime\" is mostly identical to the github version with some chapter/section numbers missing\n",
    "Solution => redo this page and split into 3 sections\n",
    " - Section 1: Basic forecasting workflows\n",
    "    + Revised stuff already in place, added comments and clarification where needed\n",
    "    + Added forecasting of multivariate time series (IN PROGRESS) (Use Tensorflow's Structured Data section to benchmark https://www.tensorflow.org/tutorials/structured_data/time_series)\n",
    "    + Turn the plotting functions that support interval into a one-liner (IN PROGRESS)\n",
    " - Section 2: Forecaster in sktime - main families\n",
    " - Section 3: Advanced composition patterns\n",
    " - Section 4: Implementing your own forecaster\n",
    "\n",
    "\n",
    "To-be-Announce Sections:\n",
    "-- Section: 1a: Forecasting, supervised regression, and pitfalls in confusing the two\n",
    "-- Scientific reference: Replicate and Extend the M4 Study "
   ]
  }
 ],
 "metadata": {
  "interpreter": {
   "hash": "74420e131e26fca9a2b0cac518c9b4de66ec2bac94531e3026dcdd1128986759"
  },
  "kernelspec": {
   "display_name": "Python 3.9.7 ('data_process')",
   "language": "python",
   "name": "python3"
  },
  "language_info": {
   "name": "python",
   "version": "3.9.7"
  },
  "orig_nbformat": 4
 },
 "nbformat": 4,
 "nbformat_minor": 2
}
