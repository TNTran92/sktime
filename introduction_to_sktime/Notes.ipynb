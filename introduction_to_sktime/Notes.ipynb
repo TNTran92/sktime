{
 "cells": [
  {
   "cell_type": "markdown",
   "metadata": {},
   "source": [
    "Issue to fix/have fixed\n",
    "1/ On https://www.sktime.org/en/stable/, when clicking on \"User Guid\", the menu opens up a new menu with \"User Guid\" and \"Tutorial.\" This is confusing.ConnectionRefusedError"
   ]
  }
 ],
 "metadata": {
  "interpreter": {
   "hash": "74420e131e26fca9a2b0cac518c9b4de66ec2bac94531e3026dcdd1128986759"
  },
  "kernelspec": {
   "display_name": "Python 3.9.7 ('data_process')",
   "language": "python",
   "name": "python3"
  },
  "language_info": {
   "name": "python",
   "version": "3.9.7"
  },
  "orig_nbformat": 4
 },
 "nbformat": 4,
 "nbformat_minor": 2
}
